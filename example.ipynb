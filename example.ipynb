{
 "cells": [
  {
   "cell_type": "code",
   "execution_count": null,
   "id": "39247020",
   "metadata": {},
   "outputs": [],
   "source": [
    "import os\n",
    "from gifa_libray import GIFA\n",
    "audio_file_to_process = r\"C:/GIFA-acoustic/test_audios/test10.mp3\"\n",
    "output_folder= \"generated_images\"\n",
    "os.makedirs(output_folder, exist_ok=True)"
   ]
  },
  {
   "cell_type": "code",
   "execution_count": null,
   "id": "48c15196",
   "metadata": {},
   "outputs": [],
   "source": [
    "gifa = GIFA(preload_image_model='lumina') # or 'sd'"
   ]
  },
  {
   "cell_type": "code",
   "execution_count": null,
   "id": "174ee5f3",
   "metadata": {},
   "outputs": [],
   "source": [
    "result = gifa.pipe(\n",
    "    # Core inputs\n",
    "    audio_path=audio_file_to_process,\n",
    "    image_model_type='lumina', # or 'sd'\n",
    "    audio_model='ftwhispertiny', # or 'ftcanvers'\n",
    "\n",
    "    # Prompting and output control\n",
    "    prefixes=[\"Cartoon\", \"glowing particles\"],\n",
    "    output_dir=output_folder,\n",
    "    width=512,\n",
    "    height=512,\n",
    "    seed=123,\n",
    "    save_image=True,\n",
    "    return_image_object=False,\n",
    "    guidance_scale=4.5,\n",
    "    num_inference_steps=30,\n",
    "\n",
    "    # Lumina Specific Pipeline Arguments (passed via **kwargs)\n",
    "    cfg_trunc_ratio=0.9,\n",
    "    cfg_normalization=True,\n",
    "\n",
    "    # Stable Diffusers Specific Pipeline Arguments (passed via **kwargs)\n",
    "    # negative_prompt=\"ugly, deformed, blurry\"\n",
    ")"
   ]
  }
 ],
 "metadata": {
  "kernelspec": {
   "display_name": "Python 3",
   "language": "python",
   "name": "python3"
  },
  "language_info": {
   "codemirror_mode": {
    "name": "ipython",
    "version": 3
   },
   "file_extension": ".py",
   "mimetype": "text/x-python",
   "name": "python",
   "nbconvert_exporter": "python",
   "pygments_lexer": "ipython3",
   "version": "3.10.5"
  }
 },
 "nbformat": 4,
 "nbformat_minor": 5
}
